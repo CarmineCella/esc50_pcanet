{
 "cells": [
  {
   "cell_type": "code",
   "execution_count": 1,
   "metadata": {
    "collapsed": false
   },
   "outputs": [],
   "source": [
    "import matplotlib\n",
    "import numpy as np\n",
    "import scipy as scp\n",
    "import pywt\n",
    "import matplotlib.pyplot as plt\n",
    "%matplotlib inline\n",
    "\n",
    "import os\n",
    "import pickle\n",
    "\n",
    "import pdb"
   ]
  },
  {
   "cell_type": "code",
   "execution_count": 2,
   "metadata": {
    "collapsed": true
   },
   "outputs": [],
   "source": [
    "from sklearn.svm import SVC, LinearSVC\n",
    "from sklearn.model_selection import train_test_split, cross_val_score\n",
    "from sklearn.ensemble import RandomForestClassifier\n",
    "from sklearn.decomposition import PCA\n",
    "from sklearn.metrics import confusion_matrix\n",
    "\n",
    "from sklearn.pipeline import Pipeline"
   ]
  },
  {
   "cell_type": "code",
   "execution_count": 3,
   "metadata": {
    "collapsed": false
   },
   "outputs": [],
   "source": [
    "from transform_scatt import load_vertical_transform, Concat_scat_tree, Concat_scal, JointScat"
   ]
  },
  {
   "cell_type": "code",
   "execution_count": 4,
   "metadata": {
    "collapsed": false
   },
   "outputs": [],
   "source": [
    "from compute_features import compute_features, load_features\n",
    "from plot_utils import plot_confusion_matrix"
   ]
  },
  {
   "cell_type": "markdown",
   "metadata": {},
   "source": [
    "# Hyperparameters"
   ]
  },
  {
   "cell_type": "code",
   "execution_count": 5,
   "metadata": {
    "collapsed": false
   },
   "outputs": [],
   "source": [
    "db_location = '/users/data/blier/ESC-50/'\n",
    "log_features = True\n",
    "log_eps = 0.001\n",
    "\n",
    "connections = 'pca_net'\n",
    "\n",
    "#update this list to test over different features\n",
    "features = 'mfcc' #, 'plain_scat_1', 'plain_scat_2']\n",
    "\n",
    "params = {'channels': (84,12), 'hops': (512,4),\n",
    "          'fmin':32.7, 'fmax':11001,\n",
    "          'alphas':(6,6),'Qs':(12,12), # only used for flex scattering\n",
    "          'nclasses': 50, 'n_itemsbyclass':40, 'max_sample_size':2**17,\n",
    "          'audio_ext':'*.ogg'}\n",
    "\n",
    "nOctaves=10\n",
    "nfo=12\n",
    "nfo2=12"
   ]
  },
  {
   "cell_type": "markdown",
   "metadata": {},
   "source": [
    "## Load and prepare the Data"
   ]
  },
  {
   "cell_type": "code",
   "execution_count": 6,
   "metadata": {
    "collapsed": false,
    "scrolled": true
   },
   "outputs": [
    {
     "name": "stdout",
     "output_type": "stream",
     "text": [
      "101 - Dog.pkl\n",
      "shape (40, 637)\n",
      "102 - Rooster.pkl\n",
      "shape (40, 637)\n",
      "103 - Pig.pkl\n",
      "shape (40, 637)\n",
      "104 - Cow.pkl\n",
      "shape (40, 637)\n",
      "105 - Frog.pkl\n",
      "shape (40, 637)\n",
      "106 - Cat.pkl\n",
      "shape (40, 637)\n",
      "107 - Hen.pkl\n",
      "shape (40, 637)\n",
      "108 - Insects.pkl\n",
      "shape (40, 637)\n",
      "109 - Sheep.pkl\n",
      "shape (40, 637)\n",
      "110 - Crow.pkl\n",
      "shape (40, 637)\n",
      "201 - Rain.pkl\n",
      "shape (40, 637)\n",
      "202 - Sea waves.pkl\n",
      "shape (40, 637)\n",
      "203 - Crackling fire.pkl\n",
      "shape (40, 637)\n",
      "204 - Crickets.pkl\n",
      "shape (40, 637)\n",
      "205 - Chirping birds.pkl\n",
      "shape (40, 637)\n",
      "206 - Water drops.pkl\n",
      "shape (40, 637)\n",
      "207 - Wind.pkl\n",
      "shape (40, 637)\n",
      "208 - Pouring water.pkl\n",
      "shape (40, 637)\n",
      "209 - Toilet flush.pkl\n",
      "shape (40, 637)\n",
      "210 - Thunderstorm.pkl\n",
      "shape (40, 637)\n",
      "301 - Crying baby.pkl\n",
      "shape (40, 637)\n",
      "302 - Sneezing.pkl\n",
      "shape (40, 637)\n",
      "303 - Clapping.pkl\n",
      "shape (40, 637)\n",
      "304 - Breathing.pkl\n",
      "shape (40, 637)\n",
      "305 - Coughing.pkl\n",
      "shape (40, 637)\n",
      "306 - Footsteps.pkl\n",
      "shape (40, 637)\n",
      "307 - Laughing.pkl\n",
      "shape (40, 637)\n",
      "308 - Brushing teeth.pkl\n",
      "shape (40, 637)\n",
      "309 - Snoring.pkl\n",
      "shape (40, 637)\n",
      "310 - Drinking - sipping.pkl\n",
      "shape (40, 637)\n",
      "401 - Door knock.pkl\n",
      "shape (40, 637)\n",
      "402 - Mouse click.pkl\n",
      "shape (40, 637)\n",
      "403 - Keyboard typing.pkl\n",
      "shape (40, 637)\n",
      "404 - Door - wood creaks.pkl\n",
      "shape (40, 637)\n",
      "405 - Can opening.pkl\n",
      "shape (40, 637)\n",
      "406 - Washing machine.pkl\n",
      "shape (40, 637)\n",
      "407 - Vacuum cleaner.pkl\n",
      "shape (40, 637)\n",
      "408 - Clock alarm.pkl\n",
      "shape (40, 637)\n",
      "409 - Clock tick.pkl\n",
      "shape (40, 637)\n",
      "410 - Glass breaking.pkl\n",
      "shape (40, 637)\n",
      "501 - Helicopter.pkl\n",
      "shape (40, 637)\n",
      "502 - Chainsaw.pkl\n",
      "shape (40, 637)\n",
      "503 - Siren.pkl\n",
      "shape (40, 637)\n",
      "504 - Car horn.pkl\n",
      "shape (40, 637)\n",
      "505 - Engine.pkl\n",
      "shape (40, 637)\n",
      "506 - Train.pkl\n",
      "shape (40, 637)\n",
      "507 - Church bells.pkl\n",
      "shape (40, 637)\n",
      "508 - Airplane.pkl\n",
      "shape (40, 637)\n",
      "509 - Fireworks.pkl\n",
      "shape (40, 637)\n",
      "510 - Hand saw.pkl\n",
      "shape (40, 637)\n"
     ]
    }
   ],
   "source": [
    "load = 'joint'\n",
    "if load == 'scat':\n",
    "    scat_trans = \"/users/data/blier/features_esc50/scat/\"\n",
    "    X, y = load_features(scat_trans, params['nclasses'], params['n_itemsbyclass'])\n",
    "elif load == 'raw':\n",
    "    root_path = \"/users/data/blier/ESC-50\"\n",
    "    X, y = compute_features(root_path, features, params)\n",
    "elif load == 'joint':\n",
    "    vert_wav = JointScat(nOctaves, nfo, nfo2)\n",
    "    scat_trans = \"/users/data/blier/features_esc50/scat_10_12_6/\"\n",
    "    X, y = load_vertical_transform(scat_trans, params['nclasses'], params['n_itemsbyclass'], vert_wav)\n",
    "else:\n",
    "    raise ValueError(\"Unknown loading parameter\")"
   ]
  },
  {
   "cell_type": "code",
   "execution_count": null,
   "metadata": {
    "collapsed": false
   },
   "outputs": [],
   "source": []
  },
  {
   "cell_type": "code",
   "execution_count": 7,
   "metadata": {
    "collapsed": false
   },
   "outputs": [],
   "source": [
    "classifier1 = SVC(C=1., kernel='linear')\n",
    "classifier2 = RandomForestClassifier()\n",
    "#('vertical_cwt', Vertical_wavelet())\n",
    "#estimators = [('concat', Concat_scat_tree(M = 3, transf='mean')), \n",
    "#              ('classifier', classifier1)]\n",
    "#estimators = [('concat', Vertical_wavelet()), \n",
    "#              ('classifier', classifier1)]\n",
    "estimators = [('classifier', classifier1)]\n",
    "#estimators = [('concat', Concat_scal(transf='max')),('svc', SVC(C=1., kernel='linear'))]\n",
    "pipe = Pipeline(estimators)"
   ]
  },
  {
   "cell_type": "code",
   "execution_count": 8,
   "metadata": {
    "collapsed": false
   },
   "outputs": [
    {
     "name": "stdout",
     "output_type": "stream",
     "text": [
      "[ 0.705  0.69   0.735  0.68   0.675  0.74   0.755  0.725  0.715  0.68 ]\n"
     ]
    }
   ],
   "source": [
    "cross_valid = True\n",
    "if cross_valid:\n",
    "    scores = cross_val_score(pipe, X, y, cv=10)\n",
    "    print(scores), scores.mean()\n",
    "else:\n",
    "    X_train, X_test, y_train, y_test = \\\n",
    "        train_test_split(X, y, test_size=0.25, \n",
    "                         random_state=42, stratify=y)\n",
    "    pipe.fit(X_train, y_train)\n",
    "    score_train = pipe.score(X_train, y_train)\n",
    "    score_test = pipe.score(X_test, y_test)\n",
    "    score_train, score_test"
   ]
  },
  {
   "cell_type": "code",
   "execution_count": 9,
   "metadata": {
    "collapsed": false
   },
   "outputs": [
    {
     "data": {
      "text/plain": [
       "0.70999999999999996"
      ]
     },
     "execution_count": 9,
     "metadata": {},
     "output_type": "execute_result"
    }
   ],
   "source": [
    "scores.mean()"
   ]
  },
  {
   "cell_type": "code",
   "execution_count": null,
   "metadata": {
    "collapsed": false
   },
   "outputs": [],
   "source": []
  },
  {
   "cell_type": "code",
   "execution_count": 10,
   "metadata": {
    "collapsed": false
   },
   "outputs": [
    {
     "ename": "NameError",
     "evalue": "name 'X_test' is not defined",
     "output_type": "error",
     "traceback": [
      "\u001b[0;31m---------------------------------------------------------------------------\u001b[0m",
      "\u001b[0;31mNameError\u001b[0m                                 Traceback (most recent call last)",
      "\u001b[0;32m<ipython-input-10-f72313f448e1>\u001b[0m in \u001b[0;36m<module>\u001b[0;34m()\u001b[0m\n\u001b[0;32m----> 1\u001b[0;31m \u001b[0my_pred\u001b[0m \u001b[0;34m=\u001b[0m \u001b[0mpipe\u001b[0m\u001b[0;34m.\u001b[0m\u001b[0mpredict\u001b[0m\u001b[0;34m(\u001b[0m\u001b[0mX_test\u001b[0m\u001b[0;34m)\u001b[0m\u001b[0;34m\u001b[0m\u001b[0m\n\u001b[0m\u001b[1;32m      2\u001b[0m \u001b[0mconf\u001b[0m \u001b[0;34m=\u001b[0m \u001b[0mconfusion_matrix\u001b[0m\u001b[0;34m(\u001b[0m\u001b[0my_test\u001b[0m\u001b[0;34m,\u001b[0m \u001b[0my_pred\u001b[0m\u001b[0;34m)\u001b[0m\u001b[0;34m\u001b[0m\u001b[0m\n\u001b[1;32m      3\u001b[0m \u001b[0mconf_surclasses\u001b[0m \u001b[0;34m=\u001b[0m \u001b[0mconfusion_matrix\u001b[0m\u001b[0;34m(\u001b[0m\u001b[0my_test\u001b[0m \u001b[0;34m//\u001b[0m \u001b[0;36m10\u001b[0m\u001b[0;34m,\u001b[0m \u001b[0my_pred\u001b[0m \u001b[0;34m//\u001b[0m \u001b[0;36m10\u001b[0m\u001b[0;34m)\u001b[0m\u001b[0;34m\u001b[0m\u001b[0m\n",
      "\u001b[0;31mNameError\u001b[0m: name 'X_test' is not defined"
     ]
    }
   ],
   "source": [
    "y_pred = pipe.predict(X_test)\n",
    "conf = confusion_matrix(y_test, y_pred)\n",
    "conf_surclasses = confusion_matrix(y_test // 10, y_pred // 10)"
   ]
  },
  {
   "cell_type": "markdown",
   "metadata": {
    "collapsed": false
   },
   "source": [
    "## Confusion Matrix"
   ]
  },
  {
   "cell_type": "code",
   "execution_count": null,
   "metadata": {
    "collapsed": false
   },
   "outputs": [],
   "source": [
    "plot_confusion_matrix(conf, range(params[\"nclasses\"]), plot_values = False, normalize=True)"
   ]
  },
  {
   "cell_type": "code",
   "execution_count": null,
   "metadata": {
    "collapsed": false
   },
   "outputs": [],
   "source": [
    "plot_confusion_matrix(conf_surclasses, range(5), plot_values = True, normalize=True)"
   ]
  },
  {
   "cell_type": "code",
   "execution_count": null,
   "metadata": {
    "collapsed": true
   },
   "outputs": [],
   "source": []
  }
 ],
 "metadata": {
  "anaconda-cloud": {},
  "kernelspec": {
   "display_name": "Python [conda root]",
   "language": "python",
   "name": "conda-root-py"
  },
  "language_info": {
   "codemirror_mode": {
    "name": "ipython",
    "version": 3
   },
   "file_extension": ".py",
   "mimetype": "text/x-python",
   "name": "python",
   "nbconvert_exporter": "python",
   "pygments_lexer": "ipython3",
   "version": "3.5.2"
  }
 },
 "nbformat": 4,
 "nbformat_minor": 1
}
