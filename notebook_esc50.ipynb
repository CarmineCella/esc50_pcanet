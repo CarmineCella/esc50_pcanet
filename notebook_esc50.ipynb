{
 "cells": [
  {
   "cell_type": "code",
   "execution_count": null,
   "metadata": {
    "collapsed": false
   },
   "outputs": [],
   "source": [
    "import matplotlib\n",
    "import numpy as np\n",
    "import scipy as scp\n",
    "import pywt\n",
    "import matplotlib.pyplot as plt\n",
    "%matplotlib inline\n",
    "\n",
    "import os\n",
    "import pickle\n",
    "\n",
    "import pdb"
   ]
  },
  {
   "cell_type": "code",
   "execution_count": null,
   "metadata": {
    "collapsed": true
   },
   "outputs": [],
   "source": [
    "from sklearn.svm import SVC, LinearSVC\n",
    "from sklearn.model_selection import train_test_split, cross_val_score\n",
    "from sklearn.ensemble import RandomForestClassifier\n",
    "from sklearn.decomposition import PCA\n",
    "from sklearn.metrics import confusion_matrix\n",
    "from sklearn.preprocessing import label_binarize\n",
    "\n",
    "from sklearn.pipeline import Pipeline"
   ]
  },
  {
   "cell_type": "code",
   "execution_count": null,
   "metadata": {
    "collapsed": false
   },
   "outputs": [],
   "source": [
    "from transform_scatt import load_transform, Concat_scat_tree, Concat_scal, JointScat"
   ]
  },
  {
   "cell_type": "code",
   "execution_count": null,
   "metadata": {
    "collapsed": false
   },
   "outputs": [],
   "source": [
    "from compute_features import compute_features, load_features\n",
    "from plot_utils import plot_confusion_matrix"
   ]
  },
  {
   "cell_type": "markdown",
   "metadata": {},
   "source": [
    "# Hyperparameters"
   ]
  },
  {
   "cell_type": "code",
   "execution_count": null,
   "metadata": {
    "collapsed": false
   },
   "outputs": [],
   "source": [
    "db_location = '/users/data/blier/ESC-50/'\n",
    "log_features = True\n",
    "log_eps = 0.001\n",
    "\n",
    "connections = 'pca_net'\n",
    "\n",
    "#update this list to test over different features\n",
    "features = 'mfcc' #, 'plain_scat_1', 'plain_scat_2']\n",
    "\n",
    "params = {'channels': (84,12), 'hops': (512,4),\n",
    "          'fmin':32.7, 'fmax':11001,\n",
    "          'alphas':(6,6),'Qs':(12,12), # only used for flex scattering\n",
    "          'nclasses': 5, 'n_itemsbyclass':40, 'max_sample_size':2**17,\n",
    "          'audio_ext':'*.ogg'}\n",
    "\n",
    "nOctaves=10\n",
    "nfo=12\n",
    "nfo2=12"
   ]
  },
  {
   "cell_type": "markdown",
   "metadata": {},
   "source": [
    "## Load and prepare the Data"
   ]
  },
  {
   "cell_type": "code",
   "execution_count": null,
   "metadata": {
    "collapsed": false,
    "scrolled": true
   },
   "outputs": [],
   "source": [
    "load = 'raw'\n",
    "if load == 'scat':\n",
    "    directory = \"/users/data/blier/features_esc50/scat_8_12_1/\"\n",
    "    trans_obj = Concat_scat_tree(M = 2, transf=None, nOctaves=nOctaves, nfo=nfo, nfo2=nfo2)\n",
    "    X, y = load_transform(directory, params['nclasses'], params['n_itemsbyclass'], trans_obj)\n",
    "elif load == 'raw':\n",
    "    #root_path = \"/users/data/blier/ESC-50\"\n",
    "    #X, y = compute_features(root_path, features, params)\n",
    "    directory = \"/users/data/blier/features_esc50/scat_10_12_12/\"\n",
    "    X, y = load_features(directory, params['nclasses'], params['n_itemsbyclass'])\n",
    "elif load == 'joint':\n",
    "    vert_wav = JointScat(nOctaves, nfo, nfo2)\n",
    "    directory = \"/users/data/blier/features_esc50/scat_8_12_1/\"\n",
    "    X, y = load_transform(directory, params['nclasses'], params['n_itemsbyclass'], vert_wav)\n",
    "else:\n",
    "    raise ValueError(\"Unknown loading parameter\")"
   ]
  },
  {
   "cell_type": "code",
   "execution_count": null,
   "metadata": {
    "collapsed": false
   },
   "outputs": [],
   "source": [
    "#X[0].shape"
   ]
  },
  {
   "cell_type": "code",
   "execution_count": null,
   "metadata": {
    "collapsed": false
   },
   "outputs": [],
   "source": [
    "from learned_joint_scat import learn_joint_scat_model\n",
    "\n",
    "model = learn_joint_scat_model(nOctaves, nfo, nfo2, filter_factor=2, \n",
    "                                   nClasses=params['nclasses'], n_samples=256)\n",
    "model.compile(optimizer='rmsprop', metrics=['categorical_accuracy'], loss='categorical_crossentropy')\n",
    "\n",
    "\n",
    "def scat_to_list(X):\n",
    "    X0, X1, X2 = [[x[i] for x in X] for i in range(3)]\n",
    "    X2_list = [np.stack([x2[:j2*nfo,j2*nfo2:(j2+1)*nfo2,:] for x2 in X2]) \\\n",
    "               for j2 in range(1, nOctaves)]\n",
    "    return X0, X1, X2_list\n",
    "\n",
    "\n",
    "X0, X1, X2_list = scat_to_list(X)\n",
    "X0 = np.mean(np.log(log_eps+np.abs(X0)), axis=1)\n",
    "X1 = np.mean(np.log(log_eps+np.abs(X1)), axis=2)\n",
    "inputs = [X0, X1]\n",
    "inputs.extend(X2_list)\n",
    "\n",
    "y_binarized = label_binarize(y, np.arange(params['nclasses']))\n",
    "model.fit(inputs, y_binarized, nb_epoch=50, batch_size=32, validation_split=0.20)"
   ]
  },
  {
   "cell_type": "code",
   "execution_count": null,
   "metadata": {
    "collapsed": false
   },
   "outputs": [],
   "source": []
  },
  {
   "cell_type": "code",
   "execution_count": null,
   "metadata": {
    "collapsed": false
   },
   "outputs": [],
   "source": [
    "classifier1 = SVC(C=1., kernel='linear')\n",
    "classifier2 = RandomForestClassifier()\n",
    "#('vertical_cwt', Vertical_wavelet())\n",
    "#estimators = [('concat', Concat_scat_tree(M = 3, transf='mean', nOctaves=nOctaves, nfo=nfo, nfo2=nfo2)), \n",
    "#              ('classifier', classifier1)]\n",
    "#estimators = [('concat', Vertical_wavelet()), \n",
    "#              ('classifier', classifier1)]\n",
    "estimators = [('classifier', classifier1)]\n",
    "#estimators = [('concat', Concat_scal(transf='max')),('svc', SVC(C=1., kernel='linear'))]\n",
    "pipe = Pipeline(estimators)"
   ]
  },
  {
   "cell_type": "code",
   "execution_count": null,
   "metadata": {
    "collapsed": false
   },
   "outputs": [],
   "source": [
    "cross_valid = True\n",
    "if cross_valid:\n",
    "    scores = cross_val_score(pipe, X, y, cv=10)\n",
    "    print(scores, scores.mean())\n",
    "else:\n",
    "    X_train, X_test, y_train, y_test = \\\n",
    "        train_test_split(X, y, test_size=0.25, \n",
    "                         random_state=42, stratify=y)\n",
    "    pipe.fit(X_train, y_train)\n",
    "    score_train = pipe.score(X_train, y_train)\n",
    "    score_test = pipe.score(X_test, y_test)\n",
    "    score_train, score_test"
   ]
  },
  {
   "cell_type": "code",
   "execution_count": null,
   "metadata": {
    "collapsed": false
   },
   "outputs": [],
   "source": [
    "scores.mean()"
   ]
  },
  {
   "cell_type": "code",
   "execution_count": null,
   "metadata": {
    "collapsed": false
   },
   "outputs": [],
   "source": []
  },
  {
   "cell_type": "code",
   "execution_count": null,
   "metadata": {
    "collapsed": false
   },
   "outputs": [],
   "source": [
    "y_pred = pipe.predict(X_test)\n",
    "conf = confusion_matrix(y_test, y_pred)\n",
    "conf_surclasses = confusion_matrix(y_test // 10, y_pred // 10)"
   ]
  },
  {
   "cell_type": "markdown",
   "metadata": {
    "collapsed": false
   },
   "source": [
    "## Confusion Matrix"
   ]
  },
  {
   "cell_type": "code",
   "execution_count": null,
   "metadata": {
    "collapsed": false
   },
   "outputs": [],
   "source": [
    "plot_confusion_matrix(conf, range(params[\"nclasses\"]), plot_values = False, normalize=True)"
   ]
  },
  {
   "cell_type": "code",
   "execution_count": null,
   "metadata": {
    "collapsed": false
   },
   "outputs": [],
   "source": [
    "plot_confusion_matrix(conf_surclasses, range(5), plot_values = True, normalize=True)"
   ]
  },
  {
   "cell_type": "code",
   "execution_count": null,
   "metadata": {
    "collapsed": true
   },
   "outputs": [],
   "source": []
  }
 ],
 "metadata": {
  "anaconda-cloud": {},
  "kernelspec": {
   "display_name": "Python [conda root]",
   "language": "python",
   "name": "conda-root-py"
  },
  "language_info": {
   "codemirror_mode": {
    "name": "ipython",
    "version": 3
   },
   "file_extension": ".py",
   "mimetype": "text/x-python",
   "name": "python",
   "nbconvert_exporter": "python",
   "pygments_lexer": "ipython3",
   "version": "3.5.2"
  }
 },
 "nbformat": 4,
 "nbformat_minor": 1
}
