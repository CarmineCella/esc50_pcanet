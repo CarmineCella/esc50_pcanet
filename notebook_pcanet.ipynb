{
 "cells": [
  {
   "cell_type": "code",
   "execution_count": 1,
   "metadata": {
    "collapsed": false
   },
   "outputs": [],
   "source": [
    "import matplotlib\n",
    "import numpy as np\n",
    "import matplotlib.pyplot as plt\n",
    "%matplotlib inline\n",
    "\n",
    "import os\n",
    "import pickle\n",
    "\n",
    "import pdb\n",
    "import itertools"
   ]
  },
  {
   "cell_type": "code",
   "execution_count": null,
   "metadata": {
    "collapsed": true
   },
   "outputs": [],
   "source": []
  },
  {
   "cell_type": "code",
   "execution_count": 2,
   "metadata": {
    "collapsed": true
   },
   "outputs": [],
   "source": [
    "from sklearn.svm import SVC, LinearSVC\n",
    "from sklearn.model_selection import train_test_split\n",
    "from sklearn.ensemble import RandomForestClassifier\n",
    "from sklearn.decomposition import PCA\n",
    "\n",
    "from sklearn.metrics import confusion_matrix\n",
    "\n",
    "from sklearn.pipeline import Pipeline\n",
    "from sklearn.base import TransformerMixin"
   ]
  },
  {
   "cell_type": "code",
   "execution_count": 3,
   "metadata": {
    "collapsed": false
   },
   "outputs": [],
   "source": [
    "from compute_features import compute_features, load_features"
   ]
  },
  {
   "cell_type": "code",
   "execution_count": 4,
   "metadata": {
    "collapsed": false
   },
   "outputs": [],
   "source": [
    "db_location = '/users/data/blier/ESC-50/'\n",
    "log_features = True\n",
    "log_eps = 0.01\n",
    "nfolds = 1\n",
    "split = 0.25\n",
    "pca_components = 5\n",
    "pca_time_width = 1\n",
    "pca_time_stride = 7\n",
    "pca_freq_width = 15\n",
    "pca_freq_stride = 7\n",
    "\n",
    "connections = 'pca_net'\n",
    "\n",
    "#update this list to test over different features\n",
    "features = 'mfcc' #, 'plain_scat_1', 'plain_scat_2']\n",
    "\n",
    "params = {'channels': (84,12), 'hops': (512,4),\n",
    "          'fmin':32.7, 'fmax':11001,\n",
    "          'alphas':(6,6),'Qs':(12,12), # only used for flex scattering\n",
    "          'nclasses': 50, 'n_itemsbyclass':40, 'max_sample_size':2**17,\n",
    "          'audio_ext':'*.ogg'}"
   ]
  },
  {
   "cell_type": "code",
   "execution_count": 5,
   "metadata": {
    "collapsed": false
   },
   "outputs": [],
   "source": [
    "load = True"
   ]
  },
  {
   "cell_type": "code",
   "execution_count": null,
   "metadata": {
    "collapsed": true
   },
   "outputs": [],
   "source": []
  },
  {
   "cell_type": "code",
   "execution_count": 6,
   "metadata": {
    "collapsed": false,
    "scrolled": true
   },
   "outputs": [
    {
     "name": "stdout",
     "output_type": "stream",
     "text": [
      "101 - Dog.pkl\n",
      "102 - Rooster.pkl\n",
      "103 - Pig.pkl\n",
      "104 - Cow.pkl\n",
      "105 - Frog.pkl\n",
      "106 - Cat.pkl\n",
      "107 - Hen.pkl\n",
      "108 - Insects.pkl\n",
      "109 - Sheep.pkl\n",
      "110 - Crow.pkl\n",
      "201 - Rain.pkl\n",
      "202 - Sea waves.pkl\n",
      "203 - Crackling fire.pkl\n",
      "204 - Crickets.pkl\n",
      "205 - Chirping birds.pkl\n",
      "206 - Water drops.pkl\n",
      "207 - Wind.pkl\n",
      "208 - Pouring water.pkl\n",
      "209 - Toilet flush.pkl\n",
      "210 - Thunderstorm.pkl\n",
      "301 - Crying baby.pkl\n",
      "302 - Sneezing.pkl\n",
      "303 - Clapping.pkl\n",
      "304 - Breathing.pkl\n",
      "305 - Coughing.pkl\n",
      "306 - Footsteps.pkl\n",
      "307 - Laughing.pkl\n",
      "308 - Brushing teeth.pkl\n",
      "309 - Snoring.pkl\n",
      "310 - Drinking - sipping.pkl\n",
      "401 - Door knock.pkl\n",
      "402 - Mouse click.pkl\n",
      "403 - Keyboard typing.pkl\n",
      "404 - Door - wood creaks.pkl\n",
      "405 - Can opening.pkl\n",
      "406 - Washing machine.pkl\n",
      "407 - Vacuum cleaner.pkl\n",
      "408 - Clock alarm.pkl\n",
      "409 - Clock tick.pkl\n",
      "410 - Glass breaking.pkl\n",
      "501 - Helicopter.pkl\n",
      "502 - Chainsaw.pkl\n",
      "503 - Siren.pkl\n",
      "504 - Car horn.pkl\n",
      "505 - Engine.pkl\n",
      "506 - Train.pkl\n",
      "507 - Church bells.pkl\n",
      "508 - Airplane.pkl\n",
      "509 - Fireworks.pkl\n",
      "510 - Hand saw.pkl\n"
     ]
    }
   ],
   "source": [
    "if load:\n",
    "    scat_trans = \"/users/data/blier/features_esc50/scat/\"\n",
    "    X, y = load_features(scat_trans, params['nclasses'], params['n_itemsbyclass'])\n",
    "else:\n",
    "    root_path = \"/users/data/blier/ESC-50\"\n",
    "    X, y = compute_features(root_path, features, params)"
   ]
  },
  {
   "cell_type": "code",
   "execution_count": 7,
   "metadata": {
    "collapsed": false
   },
   "outputs": [],
   "source": [
    "X_train, X_test, y_train, y_test = \\\n",
    "    train_test_split(X, y, test_size=0.25, \n",
    "                     random_state=42, stratify=y)"
   ]
  },
  {
   "cell_type": "code",
   "execution_count": null,
   "metadata": {
    "collapsed": false
   },
   "outputs": [],
   "source": []
  },
  {
   "cell_type": "code",
   "execution_count": 8,
   "metadata": {
    "collapsed": false
   },
   "outputs": [
    {
     "data": {
      "text/plain": [
       "500"
      ]
     },
     "execution_count": 8,
     "metadata": {},
     "output_type": "execute_result"
    }
   ],
   "source": [
    "len(X_test)"
   ]
  },
  {
   "cell_type": "code",
   "execution_count": null,
   "metadata": {
    "collapsed": false
   },
   "outputs": [],
   "source": []
  },
  {
   "cell_type": "code",
   "execution_count": 9,
   "metadata": {
    "collapsed": false
   },
   "outputs": [],
   "source": [
    "class Concat_scat_tree():\n",
    "    def __init__(self, M=1, transf=None, log=True):\n",
    "        self.M = M\n",
    "        self.transf = transf\n",
    "        self.log = log\n",
    "    \n",
    "    def fit(self, X, y=None, *args):\n",
    "        return self\n",
    "    \n",
    "    def transform(self, X, *args, **kwargs):\n",
    "        if self.log:\n",
    "            fun = lambda x: np.log(np.abs(x))\n",
    "        else:\n",
    "            fun = np.abs\n",
    "            \n",
    "        if self.transf == \"max\":\n",
    "            fun1 = lambda x: fun(x).max(axis=-1)\n",
    "        elif self.transf == \"mean\":\n",
    "            fun1 = lambda x: fun(x).mean(axis=-1)\n",
    "        else:\n",
    "            fun1 = fun\n",
    "        \n",
    "        X_transformed = np.stack([np.concatenate(\n",
    "                    [fun1(x[i]).ravel() for i in range(self.M)]\n",
    "                ) for x in X ])\n",
    "        \n",
    "        #X_transformed = np.log(X_transformed)\n",
    "        print(\"shape\", X_transformed.shape)\n",
    "        return X_transformed\n",
    "    \n",
    "class Concat_scal():\n",
    "    def __init__(self, transf=None, log=True):\n",
    "        self.transf = transf\n",
    "    \n",
    "    def fit(self, X, y=None, *args):\n",
    "        return self\n",
    "    \n",
    "    def transform(self, X, *args, **kwargs):\n",
    "        X_transformed = np.stack(X, axis=0)\n",
    "        if self.transf == \"max\":\n",
    "            X_transformed = np.max(X_transformed, axis=-1)\n",
    "        elif self.transf == \"mean\":\n",
    "            X_transformed = np.mean(X_transformed, axis=-1)\n",
    "            \n",
    "        X_transformed = X_transformed.reshape((X_transformed.shape[0],-1))\n",
    "        #X_transformed = np.log(X_transformed)\n",
    "        print(\"shape\", X_transformed.shape)\n",
    "        return X_transformed"
   ]
  },
  {
   "cell_type": "code",
   "execution_count": 10,
   "metadata": {
    "collapsed": false
   },
   "outputs": [],
   "source": [
    "classifier1 = SVC(C=1., kernel='linear')\n",
    "classifier2 = RandomForestClassifier()\n",
    "estimators = [('concat', Concat_scat_tree(M = 3, transf='mean')), ('classifier', classifier1)]\n",
    "\n",
    "#estimators = [('concat', Concat_scal(transf='max')),('svc', SVC(C=1., kernel='linear'))]\n",
    "pipe = Pipeline(estimators)"
   ]
  },
  {
   "cell_type": "code",
   "execution_count": null,
   "metadata": {
    "collapsed": false
   },
   "outputs": [],
   "source": []
  },
  {
   "cell_type": "code",
   "execution_count": 11,
   "metadata": {
    "collapsed": false
   },
   "outputs": [
    {
     "name": "stdout",
     "output_type": "stream",
     "text": [
      "shape (1500, 661)\n"
     ]
    },
    {
     "data": {
      "text/plain": [
       "Pipeline(steps=[('concat', <__main__.Concat_scat_tree object at 0x7fb69f759ba8>), ('classifier', RandomForestClassifier(bootstrap=True, class_weight=None, criterion='gini',\n",
       "            max_depth=None, max_features='auto', max_leaf_nodes=None,\n",
       "            min_impurity_split=1e-07, min_samples_leaf=1,\n",
       "            min_samples_split=2, min_weight_fraction_leaf=0.0,\n",
       "            n_estimators=10, n_jobs=1, oob_score=False, random_state=None,\n",
       "            verbose=0, warm_start=False))])"
      ]
     },
     "execution_count": 11,
     "metadata": {},
     "output_type": "execute_result"
    }
   ],
   "source": [
    "pipe.fit(X_train, y_train)"
   ]
  },
  {
   "cell_type": "code",
   "execution_count": 12,
   "metadata": {
    "collapsed": false
   },
   "outputs": [
    {
     "name": "stdout",
     "output_type": "stream",
     "text": [
      "shape (1500, 661)\n",
      "shape (500, 661)\n"
     ]
    },
    {
     "data": {
      "text/plain": [
       "(0.99533333333333329, 0.40200000000000002)"
      ]
     },
     "execution_count": 12,
     "metadata": {},
     "output_type": "execute_result"
    }
   ],
   "source": [
    "score_train = pipe.score(X_train, y_train)\n",
    "score_test = pipe.score(X_test, y_test)\n",
    "score_train, score_test"
   ]
  },
  {
   "cell_type": "code",
   "execution_count": 13,
   "metadata": {
    "collapsed": false
   },
   "outputs": [
    {
     "name": "stdout",
     "output_type": "stream",
     "text": [
      "shape (500, 661)\n"
     ]
    }
   ],
   "source": [
    "y_pred = pipe.predict(X_test)\n",
    "conf = confusion_matrix(y_test, y_pred)"
   ]
  },
  {
   "cell_type": "code",
   "execution_count": 14,
   "metadata": {
    "collapsed": false
   },
   "outputs": [],
   "source": [
    "def plot_confusion_matrix(cm, classes,\n",
    "                          normalize=False,\n",
    "                          title='Confusion matrix',\n",
    "                          cmap=plt.cm.Blues):\n",
    "    \"\"\"\n",
    "    This function prints and plots the confusion matrix.\n",
    "    Normalization can be applied by setting `normalize=True`.\n",
    "    \"\"\"\n",
    "    plt.imshow(cm, interpolation='nearest', cmap=cmap)\n",
    "    plt.title(title)\n",
    "    plt.colorbar()\n",
    "    tick_marks = np.arange(len(classes))\n",
    "    plt.xticks(tick_marks, classes, rotation=45)\n",
    "    plt.yticks(tick_marks, classes)\n",
    "\n",
    "    if normalize:\n",
    "        cm = cm.astype('float') / cm.sum(axis=1)[:, np.newaxis]\n",
    "        print(\"Normalized confusion matrix\")\n",
    "    else:\n",
    "        print('Confusion matrix, without normalization')\n",
    "\n",
    "    print(cm)\n",
    "\n",
    "    thresh = cm.max() / 2.\n",
    "    #for i, j in itertools.product(range(cm.shape[0]), range(cm.shape[1])):\n",
    "    #    plt.text(j, i, cm[i, j],\n",
    "    #             horizontalalignment=\"center\",\n",
    "    #             color=\"white\" if cm[i, j] > thresh else \"black\")\n",
    "\n",
    "    plt.tight_layout()\n",
    "    plt.ylabel('True label')\n",
    "    plt.xlabel('Predicted label')\n"
   ]
  },
  {
   "cell_type": "code",
   "execution_count": 15,
   "metadata": {
    "collapsed": false
   },
   "outputs": [
    {
     "name": "stdout",
     "output_type": "stream",
     "text": [
      "Normalized confusion matrix\n",
      "[[ 0.5  0.   0.  ...,  0.   0.   0. ]\n",
      " [ 0.1  0.5  0.  ...,  0.   0.   0. ]\n",
      " [ 0.   0.   0.4 ...,  0.   0.   0. ]\n",
      " ..., \n",
      " [ 0.   0.   0.1 ...,  0.4  0.   0. ]\n",
      " [ 0.   0.   0.1 ...,  0.   0.4  0. ]\n",
      " [ 0.   0.   0.1 ...,  0.1  0.   0.1]]\n"
     ]
    },
    {
     "data": {
      "image/png": "[encoded data removed]",
      "text/plain": [
       "<matplotlib.figure.Figure at 0x7fb69f6f9b00>"
      ]
     },
     "metadata": {},
     "output_type": "display_data"
    }
   ],
   "source": [
    "plot_confusion_matrix(conf, range(params[\"nclasses\"]), normalize=True)"
   ]
  },
  {
   "cell_type": "code",
   "execution_count": 16,
   "metadata": {
    "collapsed": false
   },
   "outputs": [
    {
     "ename": "NameError",
     "evalue": "name 'Concat' is not defined",
     "output_type": "error",
     "traceback": [
      "\u001b[0;31m---------------------------------------------------------------------------\u001b[0m",
      "\u001b[0;31mNameError\u001b[0m                                 Traceback (most recent call last)",
      "\u001b[0;32m<ipython-input-16-d75ceb6a32a5>\u001b[0m in \u001b[0;36m<module>\u001b[0;34m()\u001b[0m\n\u001b[0;32m----> 1\u001b[0;31m \u001b[0mconc\u001b[0m \u001b[0;34m=\u001b[0m \u001b[0mConcat\u001b[0m\u001b[0;34m(\u001b[0m\u001b[0mM\u001b[0m\u001b[0;34m=\u001b[0m\u001b[0;36m1\u001b[0m\u001b[0;34m)\u001b[0m\u001b[0;34m\u001b[0m\u001b[0m\n\u001b[0m\u001b[1;32m      2\u001b[0m \u001b[0mvalues\u001b[0m \u001b[0;34m=\u001b[0m \u001b[0mconc\u001b[0m\u001b[0;34m.\u001b[0m\u001b[0mtransform\u001b[0m\u001b[0;34m(\u001b[0m\u001b[0mX\u001b[0m\u001b[0;34m)\u001b[0m\u001b[0;34m.\u001b[0m\u001b[0mravel\u001b[0m\u001b[0;34m(\u001b[0m\u001b[0;34m)\u001b[0m\u001b[0;34m\u001b[0m\u001b[0m\n",
      "\u001b[0;31mNameError\u001b[0m: name 'Concat' is not defined"
     ]
    }
   ],
   "source": [
    "conc = Concat(M=1)\n",
    "values = conc.transform(X).ravel()"
   ]
  },
  {
   "cell_type": "code",
   "execution_count": null,
   "metadata": {
    "collapsed": true
   },
   "outputs": [],
   "source": [
    "from scipy import histogram"
   ]
  },
  {
   "cell_type": "code",
   "execution_count": null,
   "metadata": {
    "collapsed": false
   },
   "outputs": [],
   "source": [
    "y, x = histogram(conc.transform(X[:40]).ravel(), bins=100)\n",
    "plt.plot(x[:100], y[:100])"
   ]
  },
  {
   "cell_type": "code",
   "execution_count": null,
   "metadata": {
    "collapsed": false
   },
   "outputs": [],
   "source": [
    "sum([x[0].dtype != np.complex64 for x in X])"
   ]
  },
  {
   "cell_type": "markdown",
   "metadata": {},
   "source": [
    "## "
   ]
  }
 ],
 "metadata": {
  "anaconda-cloud": {},
  "kernelspec": {
   "display_name": "Python [conda root]",
   "language": "python",
   "name": "conda-root-py"
  },
  "language_info": {
   "codemirror_mode": {
    "name": "ipython",
    "version": 3
   },
   "file_extension": ".py",
   "mimetype": "text/x-python",
   "name": "python",
   "nbconvert_exporter": "python",
   "pygments_lexer": "ipython3",
   "version": "3.5.2"
  }
 },
 "nbformat": 4,
 "nbformat_minor": 1
}
