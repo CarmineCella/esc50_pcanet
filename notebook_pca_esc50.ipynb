{
 "cells": [
  {
   "cell_type": "code",
   "execution_count": 7,
   "metadata": {
    "collapsed": true
   },
   "outputs": [],
   "source": [
    "import matplotlib\n",
    "import numpy as np\n",
    "import scipy as scp\n",
    "import pywt\n",
    "import matplotlib.pyplot as plt\n",
    "%matplotlib inline\n",
    "\n",
    "import os\n",
    "import pickle\n",
    "\n",
    "import pdb\n",
    "\n",
    "from sklearn.svm import SVC, LinearSVC\n",
    "from sklearn.model_selection import train_test_split\n",
    "from sklearn.ensemble import RandomForestClassifier\n",
    "from sklearn.decomposition import PCA\n",
    "from sklearn.metrics import confusion_matrix\n",
    "\n",
    "import scipy as scp\n",
    "\n",
    "from sklearn.pipeline import Pipeline\n",
    "from transform_scatt import load_vertical_transform, Concat_scat_tree, Concat_scal, JointScat\n",
    "from compute_features import compute_features, load_features\n",
    "from plot_utils import plot_confusion_matrix"
   ]
  },
  {
   "cell_type": "code",
   "execution_count": 2,
   "metadata": {
    "collapsed": false
   },
   "outputs": [
    {
     "name": "stdout",
     "output_type": "stream",
     "text": [
      "101 - Dog.pkl\n",
      "102 - Rooster.pkl\n",
      "103 - Pig.pkl\n",
      "104 - Cow.pkl\n",
      "105 - Frog.pkl\n",
      "106 - Cat.pkl\n",
      "107 - Hen.pkl\n",
      "108 - Insects.pkl\n",
      "109 - Sheep.pkl\n",
      "110 - Crow.pkl\n",
      "201 - Rain.pkl\n",
      "202 - Sea waves.pkl\n",
      "203 - Crackling fire.pkl\n",
      "204 - Crickets.pkl\n",
      "205 - Chirping birds.pkl\n",
      "206 - Water drops.pkl\n",
      "207 - Wind.pkl\n",
      "208 - Pouring water.pkl\n",
      "209 - Toilet flush.pkl\n",
      "210 - Thunderstorm.pkl\n",
      "301 - Crying baby.pkl\n",
      "302 - Sneezing.pkl\n",
      "303 - Clapping.pkl\n",
      "304 - Breathing.pkl\n",
      "305 - Coughing.pkl\n",
      "306 - Footsteps.pkl\n",
      "307 - Laughing.pkl\n",
      "308 - Brushing teeth.pkl\n",
      "309 - Snoring.pkl\n",
      "310 - Drinking - sipping.pkl\n",
      "401 - Door knock.pkl\n",
      "402 - Mouse click.pkl\n",
      "403 - Keyboard typing.pkl\n",
      "404 - Door - wood creaks.pkl\n",
      "405 - Can opening.pkl\n",
      "406 - Washing machine.pkl\n",
      "407 - Vacuum cleaner.pkl\n",
      "408 - Clock alarm.pkl\n",
      "409 - Clock tick.pkl\n",
      "410 - Glass breaking.pkl\n",
      "501 - Helicopter.pkl\n",
      "502 - Chainsaw.pkl\n",
      "503 - Siren.pkl\n",
      "504 - Car horn.pkl\n",
      "505 - Engine.pkl\n",
      "506 - Train.pkl\n",
      "507 - Church bells.pkl\n",
      "508 - Airplane.pkl\n",
      "509 - Fireworks.pkl\n",
      "510 - Hand saw.pkl\n",
      "(128000, 60)\n"
     ]
    }
   ],
   "source": [
    "nOctaves = 10\n",
    "nfo = 12\n",
    "nfo2 = 12\n",
    "n_classes = 50\n",
    "n_itemsbyclass = 10\n",
    "    \n",
    "def load_X_l2(q2, j2, directory, n_classes, n_itemsbyclass):\n",
    "    files = [f for f in os.listdir(directory)]\n",
    "    classes = 0\n",
    "    X = []\n",
    "    y = []\n",
    "    for filename in sorted(files)[:n_classes]:\n",
    "        print(filename)\n",
    "        with open(os.path.join(directory, filename), 'rb') as f:\n",
    "            data = pickle.load(f)\n",
    "            \n",
    "        X_class = [x[2][:j2*nfo,j2*nfo2+q2,:] for x in data]\n",
    "        X.extend(X_class[:n_itemsbyclass])\n",
    "        y.extend([classes for _ in range( \\\n",
    "            min(n_itemsbyclass,len(data)))])\n",
    "        classes += 1\n",
    "    return np.concatenate(X, axis=1), np.array(y)\n",
    "\n",
    "X, y = load_X_l2(6,5, \"/users/data/blier/features_esc50/scat_10_12_6/\", n_classes, n_itemsbyclass)\n",
    "X_real = (X.real).T\n",
    "X_imag = (X.imag).T\n",
    "print(X_real.shape)"
   ]
  },
  {
   "cell_type": "code",
   "execution_count": 27,
   "metadata": {
    "collapsed": false
   },
   "outputs": [
    {
     "name": "stdout",
     "output_type": "stream",
     "text": [
      "test\n"
     ]
    },
    {
     "data": {
      "text/plain": [
       "PCA(copy=True, iterated_power='auto', n_components=40, random_state=None,\n",
       "  svd_solver='auto', tol=0.0, whiten=False)"
      ]
     },
     "execution_count": 27,
     "metadata": {},
     "output_type": "execute_result"
    }
   ],
   "source": [
    "pca1 = PCA(n_components=40)\n",
    "print(\"test\")\n",
    "pca1.fit(X_real)"
   ]
  },
  {
   "cell_type": "code",
   "execution_count": 28,
   "metadata": {
    "collapsed": false
   },
   "outputs": [],
   "source": [
    "comp = pca1.components_"
   ]
  },
  {
   "cell_type": "code",
   "execution_count": 29,
   "metadata": {
    "collapsed": false
   },
   "outputs": [
    {
     "data": {
      "text/plain": [
       "<matplotlib.image.AxesImage at 0x7f8ed4504b70>"
      ]
     },
     "execution_count": 29,
     "metadata": {},
     "output_type": "execute_result"
    },
    {
     "data": {
      "image/png": "[encoded data removed]",
      "text/plain": [
       "<matplotlib.figure.Figure at 0x7f8ed43be400>"
      ]
     },
     "metadata": {},
     "output_type": "display_data"
    }
   ],
   "source": [
    "plt.imshow(comp, interpolation='nearest')"
   ]
  },
  {
   "cell_type": "code",
   "execution_count": 34,
   "metadata": {
    "collapsed": false
   },
   "outputs": [],
   "source": [
    "comp_f = scp.fftpack.fft(comp, axis=1)"
   ]
  },
  {
   "cell_type": "code",
   "execution_count": 36,
   "metadata": {
    "collapsed": false
   },
   "outputs": [
    {
     "data": {
      "text/plain": [
       "<matplotlib.image.AxesImage at 0x7f8ed46beeb8>"
      ]
     },
     "execution_count": 36,
     "metadata": {},
     "output_type": "execute_result"
    },
    {
     "data": {
      "image/png": "[encoded data removed]",
      "text/plain": [
       "<matplotlib.figure.Figure at 0x7f8ed44b9320>"
      ]
     },
     "metadata": {},
     "output_type": "display_data"
    }
   ],
   "source": [
    "plt.imshow(np.roll(np.abs(comp_f)**2, comp_f.shape[1]//2, axis=1) , interpolation='nearest')"
   ]
  },
  {
   "cell_type": "code",
   "execution_count": 24,
   "metadata": {
    "collapsed": false
   },
   "outputs": [
    {
     "data": {
      "text/plain": [
       "dtype('complex128')"
      ]
     },
     "execution_count": 24,
     "metadata": {},
     "output_type": "execute_result"
    }
   ],
   "source": [
    "comp_f.dtype"
   ]
  },
  {
   "cell_type": "code",
   "execution_count": null,
   "metadata": {
    "collapsed": true
   },
   "outputs": [],
   "source": []
  }
 ],
 "metadata": {
  "anaconda-cloud": {},
  "kernelspec": {
   "display_name": "Python [conda root]",
   "language": "python",
   "name": "conda-root-py"
  },
  "language_info": {
   "codemirror_mode": {
    "name": "ipython",
    "version": 3
   },
   "file_extension": ".py",
   "mimetype": "text/x-python",
   "name": "python",
   "nbconvert_exporter": "python",
   "pygments_lexer": "ipython3",
   "version": "3.5.2"
  }
 },
 "nbformat": 4,
 "nbformat_minor": 1
}
