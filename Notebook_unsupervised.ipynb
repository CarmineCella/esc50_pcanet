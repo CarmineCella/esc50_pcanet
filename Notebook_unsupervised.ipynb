{
 "cells": [
  {
   "cell_type": "code",
   "execution_count": 1,
   "metadata": {
    "collapsed": true
   },
   "outputs": [],
   "source": [
    "import os \n",
    "import fnmatch\n",
    "import joblib\n",
    "import librosa\n",
    "import numpy as np\n",
    "import os.path\n",
    "from mel_scat import mel_scat\n",
    "from cqt_scat import cqt_scat\n",
    "from flex_scat import flex_scat\n",
    "from scattering import scattering\n",
    "from joblib import Parallel, delayed\n",
    "import matplotlib.pyplot as plt\n",
    "\n",
    "from esc50_pcanet import get_features, parallel_wrapper_features, compute_features\n",
    "\n",
    "db_location = '/home/leonardblier/ESC-50-ogg-Toy/'\n",
    "log_features = True\n",
    "log_eps = 0.01\n",
    "nfolds = 1\n",
    "split = 0.25\n",
    "pca_components = 50\n",
    "pca_time_width = 1\n",
    "pca_time_stride = 7\n",
    "pca_freq_width = 15\n",
    "pca_freq_stride = 7\n",
    "\n",
    "connections = 'pca_net'\n",
    "\n",
    "#update this list to test over different features\n",
    "#features_list = ['plain_scat_2']#, 'plain_scat_1', 'plain_scat_2']\n",
    "\n",
    "params = {'channels': (84,12), 'hops': (512,4),\n",
    "          'fmin':32.7, 'fmax':11001,\n",
    "          'alphas':(6,6),'Qs':(12,12), # only used for flex scattering\n",
    "          'nclasses': 50, 'max_sample_size':2**17,\n",
    "          'audio_ext':'*.ogg'}\n",
    "\n",
    "num_cores = 20                        \n",
    "\n",
    "\n",
    "cachedir = os.path.expanduser('~/esc50_pcanet_joblib')\n",
    "memory = joblib.Memory(cachedir=cachedir, verbose=1)\n",
    "cached_get_features = memory.cache(get_features)"
   ]
  },
  {
   "cell_type": "code",
   "execution_count": 6,
   "metadata": {
    "collapsed": true
   },
   "outputs": [],
   "source": [
    "feat = 'plain_scat_1'"
   ]
  },
  {
   "cell_type": "code",
   "execution_count": 7,
   "metadata": {
    "collapsed": false
   },
   "outputs": [
    {
     "name": "stdout",
     "output_type": "stream",
     "text": [
      "class: 101 - Dog\n",
      "________________________________________________________________________________\n",
      "[Memory] Calling esc50_pcanet.get_features...\n",
      "get_features('/home/leonardblier/ESC-50-ogg-Toy/101 - Dog/1-30344-A.ogg', 'plain_scat_1', (84, 12), (512, 4), 32.7, 11001, (6, 6), (12, 12), 131072)________________________________________________________________________________\n",
      "[Memory] Calling esc50_pcanet.get_features...\n",
      "get_features('/home/leonardblier/ESC-50-ogg-Toy/101 - Dog/1-32318-A.ogg', 'plain_scat_1', (84, 12), (512, 4), 32.7, 11001, (6, 6), (12, 12), 131072)________________________________________________________________________________\n",
      "[Memory] Calling esc50_pcanet.get_features...\n",
      "get_features('/home/leonardblier/ESC-50-ogg-Toy/101 - Dog/1-30226-A.ogg', 'plain_scat_1', (84, 12), (512, 4), 32.7, 11001, (6, 6), (12, 12), 131072)________________________________________________________________________________\n",
      "[Memory] Calling esc50_pcanet.get_features...\n",
      "get_features('/home/leonardblier/ESC-50-ogg-Toy/101 - Dog/1-100032-A.ogg', 'plain_scat_1', (84, 12), (512, 4), 32.7, 11001, (6, 6), (12, 12), 131072)\n",
      "________________________________________________________________________________\n",
      "[Memory] Calling esc50_pcanet.get_features...\n",
      "get_features('/home/leonardblier/ESC-50-ogg-Toy/101 - Dog/1-110389-A.ogg', 'plain_scat_1', (84, 12), (512, 4), 32.7, 11001, (6, 6), (12, 12), 131072)\n",
      "________________________________________________________________________________\n",
      "[Memory] Calling esc50_pcanet.get_features...\n",
      "get_features('/home/leonardblier/ESC-50-ogg-Toy/101 - Dog/1-85362-A.ogg', 'plain_scat_1', (84, 12), (512, 4), 32.7, 11001, (6, 6), (12, 12), 131072)\n",
      "\n",
      "\n",
      "\n",
      "________________________________________________________________________________\n",
      "[Memory] Calling esc50_pcanet.get_features...\n",
      "get_features('/home/leonardblier/ESC-50-ogg-Toy/101 - Dog/1-59513-A.ogg', 'plain_scat_1', (84, 12), (512, 4), 32.7, 11001, (6, 6), (12, 12), 131072)________________________________________________________________________________\n",
      "[Memory] Calling esc50_pcanet.get_features...\n",
      "get_features('/home/leonardblier/ESC-50-ogg-Toy/101 - Dog/1-97392-A.ogg', 'plain_scat_1', (84, 12), (512, 4), 32.7, 11001, (6, 6), (12, 12), 131072)\n",
      "\n",
      "_____________________________________________________get_features - 2.2s, 0.0min\n",
      "_____________________________________________________get_features - 2.2s, 0.0min\n",
      "_____________________________________________________get_features - 2.3s, 0.0min\n",
      "_____________________________________________________get_features - 2.3s, 0.0min\n",
      "_____________________________________________________get_features - 2.3s, 0.0min\n",
      "_____________________________________________________get_features - 2.3s, 0.0min\n",
      "_____________________________________________________get_features - 2.3s, 0.0min\n",
      "_____________________________________________________get_features - 2.5s, 0.0min\n",
      "class: 102 - Rooster\n",
      "________________________________________________________________________________\n",
      "[Memory] Calling esc50_pcanet.get_features...\n",
      "get_features('/home/leonardblier/ESC-50-ogg-Toy/102 - Rooster/1-34119-A.ogg', 'plain_scat_1', (84, 12), (512, 4), 32.7, 11001, (6, 6), (12, 12), 131072)________________________________________________________________________________\n",
      "[Memory] Calling esc50_pcanet.get_features...\n",
      "get_features('/home/leonardblier/ESC-50-ogg-Toy/102 - Rooster/1-43382-A.ogg', 'plain_scat_1', (84, 12), (512, 4), 32.7, 11001, (6, 6), (12, 12), 131072)________________________________________________________________________________\n",
      "[Memory] Calling esc50_pcanet.get_features...\n",
      "get_features('/home/leonardblier/ESC-50-ogg-Toy/102 - Rooster/1-39923-A.ogg', 'plain_scat_1', (84, 12), (512, 4), 32.7, 11001, (6, 6), (12, 12), 131072)________________________________________________________________________________\n",
      "[Memory] Calling esc50_pcanet.get_features...\n",
      "get_features('/home/leonardblier/ESC-50-ogg-Toy/102 - Rooster/1-44831-A.ogg', 'plain_scat_1', (84, 12), (512, 4), 32.7, 11001, (6, 6), (12, 12), 131072)\n",
      "\n",
      "\n",
      "________________________________________________________________________________\n",
      "[Memory] Calling esc50_pcanet.get_features...\n",
      "get_features('/home/leonardblier/ESC-50-ogg-Toy/102 - Rooster/1-26806-A.ogg', 'plain_scat_1', (84, 12), (512, 4), 32.7, 11001, (6, 6), (12, 12), 131072)________________________________________________________________________________\n",
      "[Memory] Calling esc50_pcanet.get_features...\n",
      "get_features('/home/leonardblier/ESC-50-ogg-Toy/102 - Rooster/1-40730-A.ogg', 'plain_scat_1', (84, 12), (512, 4), 32.7, 11001, (6, 6), (12, 12), 131072)\n",
      "________________________________________________________________________________\n",
      "[Memory] Calling esc50_pcanet.get_features...\n",
      "get_features('/home/leonardblier/ESC-50-ogg-Toy/102 - Rooster/1-34119-B.ogg', 'plain_scat_1', (84, 12), (512, 4), 32.7, 11001, (6, 6), (12, 12), 131072)________________________________________________________________________________\n",
      "[Memory] Calling esc50_pcanet.get_features...\n",
      "get_features('/home/leonardblier/ESC-50-ogg-Toy/102 - Rooster/1-27724-A.ogg', 'plain_scat_1', (84, 12), (512, 4), 32.7, 11001, (6, 6), (12, 12), 131072)\n",
      "\n",
      "\n",
      "\n",
      "_____________________________________________________get_features - 2.2s, 0.0min\n",
      "_____________________________________________________get_features - 2.2s, 0.0min\n",
      "_____________________________________________________get_features - 2.3s, 0.0min\n",
      "_____________________________________________________get_features - 2.3s, 0.0min\n",
      "_____________________________________________________get_features - 2.3s, 0.0min\n",
      "_____________________________________________________get_features - 2.3s, 0.0min\n",
      "_____________________________________________________get_features - 2.4s, 0.0min\n",
      "_____________________________________________________get_features - 2.4s, 0.0min\n",
      "classes = 2\n"
     ]
    }
   ],
   "source": [
    "X_data, y_data = compute_features (db_location, feat, params)"
   ]
  },
  {
   "cell_type": "code",
   "execution_count": 8,
   "metadata": {
    "collapsed": false
   },
   "outputs": [
    {
     "data": {
      "text/plain": [
       "(16, 121, 256)"
      ]
     },
     "execution_count": 8,
     "metadata": {},
     "output_type": "execute_result"
    }
   ],
   "source": [
    "X_data.shape"
   ]
  },
  {
   "cell_type": "code",
   "execution_count": 9,
   "metadata": {
    "collapsed": false
   },
   "outputs": [
    {
     "data": {
      "text/plain": [
       "dtype('float64')"
      ]
     },
     "execution_count": 9,
     "metadata": {},
     "output_type": "execute_result"
    }
   ],
   "source": [
    "X_data.dtype"
   ]
  },
  {
   "cell_type": "code",
   "execution_count": null,
   "metadata": {
    "collapsed": true
   },
   "outputs": [],
   "source": []
  }
 ],
 "metadata": {
  "anaconda-cloud": {},
  "kernelspec": {
   "display_name": "Python [conda root]",
   "language": "python",
   "name": "conda-root-py"
  },
  "language_info": {
   "codemirror_mode": {
    "name": "ipython",
    "version": 3
   },
   "file_extension": ".py",
   "mimetype": "text/x-python",
   "name": "python",
   "nbconvert_exporter": "python",
   "pygments_lexer": "ipython3",
   "version": "3.5.2"
  }
 },
 "nbformat": 4,
 "nbformat_minor": 1
}
